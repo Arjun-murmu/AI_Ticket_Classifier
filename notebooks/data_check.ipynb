{
 "cells": [
  {
   "cell_type": "code",
   "execution_count": 3,
   "id": "586f23a1-a8fd-4263-b2e4-dc2f9145dc39",
   "metadata": {},
   "outputs": [
    {
     "name": "stdout",
     "output_type": "stream",
     "text": [
      "Libraries imported successfully!\n"
     ]
    }
   ],
   "source": [
    "import pandas as pd\n",
    "print(\"Libraries imported successfully!\")"
   ]
  },
  {
   "cell_type": "code",
   "execution_count": 5,
   "id": "25732eff-92bc-466f-a2b9-d09bb59b14b4",
   "metadata": {},
   "outputs": [
    {
     "name": "stdout",
     "output_type": "stream",
     "text": [
      "Defaulting to user installation because normal site-packages is not writeable\n",
      "Collecting nltk\n",
      "  Using cached nltk-3.9.2-py3-none-any.whl.metadata (3.2 kB)\n",
      "Requirement already satisfied: click in c:\\users\\murmu\\appdata\\local\\packages\\pythonsoftwarefoundation.python.3.13_qbz5n2kfra8p0\\localcache\\local-packages\\python313\\site-packages (from nltk) (8.2.1)\n",
      "Requirement already satisfied: joblib in c:\\users\\murmu\\appdata\\local\\packages\\pythonsoftwarefoundation.python.3.13_qbz5n2kfra8p0\\localcache\\local-packages\\python313\\site-packages (from nltk) (1.5.1)\n",
      "Collecting regex>=2021.8.3 (from nltk)\n",
      "  Using cached regex-2025.9.18-cp313-cp313-win_amd64.whl.metadata (41 kB)\n",
      "Requirement already satisfied: tqdm in c:\\users\\murmu\\appdata\\local\\packages\\pythonsoftwarefoundation.python.3.13_qbz5n2kfra8p0\\localcache\\local-packages\\python313\\site-packages (from nltk) (4.67.1)\n",
      "Requirement already satisfied: colorama in c:\\users\\murmu\\appdata\\local\\packages\\pythonsoftwarefoundation.python.3.13_qbz5n2kfra8p0\\localcache\\local-packages\\python313\\site-packages (from click->nltk) (0.4.6)\n",
      "Using cached nltk-3.9.2-py3-none-any.whl (1.5 MB)\n",
      "Using cached regex-2025.9.18-cp313-cp313-win_amd64.whl (275 kB)\n",
      "Installing collected packages: regex, nltk\n",
      "\n",
      "   ---------------------------------------- 0/2 [regex]\n",
      "   -------------------- ------------------- 1/2 [nltk]\n",
      "   -------------------- ------------------- 1/2 [nltk]\n",
      "   -------------------- ------------------- 1/2 [nltk]\n",
      "   -------------------- ------------------- 1/2 [nltk]\n",
      "   -------------------- ------------------- 1/2 [nltk]\n",
      "   -------------------- ------------------- 1/2 [nltk]\n",
      "   -------------------- ------------------- 1/2 [nltk]\n",
      "   -------------------- ------------------- 1/2 [nltk]\n",
      "   -------------------- ------------------- 1/2 [nltk]\n",
      "   -------------------- ------------------- 1/2 [nltk]\n",
      "   -------------------- ------------------- 1/2 [nltk]\n",
      "   -------------------- ------------------- 1/2 [nltk]\n",
      "   -------------------- ------------------- 1/2 [nltk]\n",
      "   -------------------- ------------------- 1/2 [nltk]\n",
      "   -------------------- ------------------- 1/2 [nltk]\n",
      "   -------------------- ------------------- 1/2 [nltk]\n",
      "   -------------------- ------------------- 1/2 [nltk]\n",
      "   -------------------- ------------------- 1/2 [nltk]\n",
      "   -------------------- ------------------- 1/2 [nltk]\n",
      "   -------------------- ------------------- 1/2 [nltk]\n",
      "   -------------------- ------------------- 1/2 [nltk]\n",
      "   -------------------- ------------------- 1/2 [nltk]\n",
      "   -------------------- ------------------- 1/2 [nltk]\n",
      "   -------------------- ------------------- 1/2 [nltk]\n",
      "   -------------------- ------------------- 1/2 [nltk]\n",
      "   -------------------- ------------------- 1/2 [nltk]\n",
      "   -------------------- ------------------- 1/2 [nltk]\n",
      "   -------------------- ------------------- 1/2 [nltk]\n",
      "   -------------------- ------------------- 1/2 [nltk]\n",
      "   -------------------- ------------------- 1/2 [nltk]\n",
      "   -------------------- ------------------- 1/2 [nltk]\n",
      "   -------------------- ------------------- 1/2 [nltk]\n",
      "   -------------------- ------------------- 1/2 [nltk]\n",
      "   -------------------- ------------------- 1/2 [nltk]\n",
      "   -------------------- ------------------- 1/2 [nltk]\n",
      "   -------------------- ------------------- 1/2 [nltk]\n",
      "   -------------------- ------------------- 1/2 [nltk]\n",
      "   -------------------- ------------------- 1/2 [nltk]\n",
      "   -------------------- ------------------- 1/2 [nltk]\n",
      "   -------------------- ------------------- 1/2 [nltk]\n",
      "   -------------------- ------------------- 1/2 [nltk]\n",
      "   -------------------- ------------------- 1/2 [nltk]\n",
      "   -------------------- ------------------- 1/2 [nltk]\n",
      "   -------------------- ------------------- 1/2 [nltk]\n",
      "   -------------------- ------------------- 1/2 [nltk]\n",
      "   -------------------- ------------------- 1/2 [nltk]\n",
      "   ---------------------------------------- 2/2 [nltk]\n",
      "\n",
      "Successfully installed nltk-3.9.2 regex-2025.9.18\n",
      "Note: you may need to restart the kernel to use updated packages.\n"
     ]
    }
   ],
   "source": [
    "pip install nltk"
   ]
  },
  {
   "cell_type": "code",
   "execution_count": 6,
   "id": "32fe8af1-c7d3-42eb-a8e4-f2f9b85b8df8",
   "metadata": {},
   "outputs": [
    {
     "name": "stderr",
     "output_type": "stream",
     "text": [
      "[nltk_data] Downloading package punkt to\n",
      "[nltk_data]     C:\\Users\\murmu\\AppData\\Roaming\\nltk_data...\n",
      "[nltk_data]   Package punkt is already up-to-date!\n",
      "[nltk_data] Downloading package stopwords to\n",
      "[nltk_data]     C:\\Users\\murmu\\AppData\\Roaming\\nltk_data...\n",
      "[nltk_data]   Package stopwords is already up-to-date!\n"
     ]
    },
    {
     "data": {
      "text/plain": [
       "True"
      ]
     },
     "execution_count": 6,
     "metadata": {},
     "output_type": "execute_result"
    }
   ],
   "source": [
    "import nltk\n",
    "nltk.download('punkt')\n",
    "nltk.download('stopwords')"
   ]
  },
  {
   "cell_type": "code",
   "execution_count": 7,
   "id": "1c10ae07-72f5-44b7-9f58-29f94c0dbd16",
   "metadata": {},
   "outputs": [
    {
     "name": "stdout",
     "output_type": "stream",
     "text": [
      "                                            text         category\n",
      "0                    I can't login to my account    Account Issue\n",
      "1            My internet connection is very slow    Network Issue\n",
      "2               Please help me reset my password    Account Issue\n",
      "3              I was overcharged on my last bill    Billing Issue\n",
      "4          The app keeps crashing when I open it  Technical Issue\n",
      "5  My payment failed but the amount was deducted    Billing Issue\n",
      "6        Unable to send messages through the app  Technical Issue\n",
      "7           Payment failed while purchasing plan    Billing Issue\n",
      "8                    Charged twice for one order    Billing Issue\n",
      "9            Money deducted but order not placed    Billing Issue\n"
     ]
    }
   ],
   "source": [
    "# Load the CSV\n",
    "df = pd.read_csv(\"D:/AI_Ticket_Classifier/AI_Ticket_Classifier/data/tickets.csv\")\n",
    "print(df.head(10))"
   ]
  },
  {
   "cell_type": "code",
   "execution_count": 8,
   "id": "3a4536df-2347-4021-bbcb-8df6f95f5ff3",
   "metadata": {},
   "outputs": [],
   "source": [
    "import re\n",
    "from nltk.corpus import stopwords\n",
    "\n",
    "stop_words = set(stopwords.words('english'))"
   ]
  },
  {
   "cell_type": "code",
   "execution_count": 9,
   "id": "881aed45-4b5f-4d59-ac3b-5e5a6bc803a9",
   "metadata": {},
   "outputs": [
    {
     "name": "stdout",
     "output_type": "stream",
     "text": [
      "{'about', \"that'll\", 'those', \"i've\", 'our', 'these', 'shouldn', 'their', 'only', \"hasn't\", 'then', 'for', 'both', 'is', 'myself', 'she', \"don't\", 'can', 'into', \"wasn't\", \"i'd\", 'its', 'yours', 'against', 'themselves', 't', 'through', 'to', \"they'd\", \"they'll\", \"you're\", 'them', \"should've\", 'why', 'and', 'when', 'after', 'being', \"i'm\", \"hadn't\", 'aren', 'once', \"shouldn't\", 'hasn', 'we', 'here', 'have', \"wouldn't\", 'him', 'itself', 'll', 'mightn', 'they', 'needn', 'or', 'having', 'each', 'won', 'during', 'if', \"shan't\", 'my', 'at', 'isn', 'not', 'himself', 'any', \"isn't\", 'above', 'been', 'do', 'below', 'same', 'ain', 'be', 'o', 'with', 'are', \"they've\", 'under', 'you', 'hers', \"she'll\", 'did', 'before', 'the', 'd', \"couldn't\", 'where', \"needn't\", 'doesn', 'down', 'out', 'on', 've', \"you'd\", 'yourself', 'just', \"we're\", 'your', 'this', \"we've\", 'what', 'an', 'as', 'over', \"it'll\", 'couldn', 'm', 'off', 'ourselves', 'shan', 'such', 'but', \"doesn't\", \"we'll\", \"haven't\", \"aren't\", \"it's\", \"they're\", 're', 'of', 'own', 'wouldn', 'a', \"mightn't\", \"you've\", 'more', 'ma', 'that', 'further', \"mustn't\", 'haven', 'weren', 'few', 'while', 'up', 'don', 'because', \"won't\", 'doing', 'me', \"weren't\", 'than', 'other', 'some', 'had', 'yourselves', 'very', 'it', 'too', 'who', 'by', 'no', 'between', 'from', 'mustn', 'until', 'does', 'will', 'most', \"we'd\", 'herself', 'whom', 'again', 'how', \"didn't\", 'her', 'now', 'so', 'didn', 'nor', 'ours', 'which', \"she's\", \"he's\", 'wasn', 'was', 'i', \"he'd\", 'his', 'y', 'should', \"you'll\", 'he', \"i'll\", 'there', 'am', \"it'd\", 'has', 'all', \"he'll\", 'theirs', 's', 'hadn', 'in', 'were', \"she'd\"}\n"
     ]
    }
   ],
   "source": [
    "print(stop_words)"
   ]
  },
  {
   "cell_type": "code",
   "execution_count": 10,
   "id": "7ed4ac56-319a-4998-bf1a-b478175ba3ed",
   "metadata": {},
   "outputs": [],
   "source": [
    "def clean_text(text):\n",
    "    # Remove special characters, numbers, and punctuation\n",
    "    text = re.sub(r'[^a-zA-Z\\s]', '', text)\n",
    "    # Convert to lowercase\n",
    "    text = text.lower()\n",
    "    # Tokenize and remove stopwords\n",
    "    words = [word for word in text.split() if word not in stop_words]\n",
    "    return ' '.join(words)"
   ]
  },
  {
   "cell_type": "code",
   "execution_count": 11,
   "id": "785022d3-9bbf-49f3-88ec-e3342f4d1d39",
   "metadata": {},
   "outputs": [
    {
     "name": "stdout",
     "output_type": "stream",
     "text": [
      "                                            text  \\\n",
      "0                    I can't login to my account   \n",
      "1            My internet connection is very slow   \n",
      "2               Please help me reset my password   \n",
      "3              I was overcharged on my last bill   \n",
      "4          The app keeps crashing when I open it   \n",
      "5  My payment failed but the amount was deducted   \n",
      "6        Unable to send messages through the app   \n",
      "7           Payment failed while purchasing plan   \n",
      "8                    Charged twice for one order   \n",
      "9            Money deducted but order not placed   \n",
      "\n",
      "                       clean_text  \n",
      "0              cant login account  \n",
      "1        internet connection slow  \n",
      "2      please help reset password  \n",
      "3           overcharged last bill  \n",
      "4         app keeps crashing open  \n",
      "5  payment failed amount deducted  \n",
      "6        unable send messages app  \n",
      "7  payment failed purchasing plan  \n",
      "8         charged twice one order  \n",
      "9     money deducted order placed  \n"
     ]
    }
   ],
   "source": [
    "df['clean_text'] = df['text'].apply(clean_text)\n",
    "print(df[['text', 'clean_text']].head(10))"
   ]
  },
  {
   "cell_type": "code",
   "execution_count": 12,
   "id": "ae9cb339-d39e-42eb-9cc0-6016267c2027",
   "metadata": {},
   "outputs": [
    {
     "name": "stdout",
     "output_type": "stream",
     "text": [
      "Missing values: text          0\n",
      "category      0\n",
      "clean_text    0\n",
      "dtype: int64\n",
      "Duplicate rows: 0\n"
     ]
    }
   ],
   "source": [
    "print(\"Missing values:\", df.isnull().sum())\n",
    "print(\"Duplicate rows:\", df.duplicated().sum())"
   ]
  },
  {
   "cell_type": "code",
   "execution_count": 13,
   "id": "68274b19-905d-4d42-a973-525981b6e116",
   "metadata": {},
   "outputs": [
    {
     "name": "stdout",
     "output_type": "stream",
     "text": [
      "✅ Cleaned dataset saved successfully!\n"
     ]
    }
   ],
   "source": [
    "df.to_csv(\"D:/AI_Ticket_Classifier/AI_Ticket_Classifier/data/cleaned_tickets.csv\", index=False)\n",
    "print(\"✅ Cleaned dataset saved successfully!\")"
   ]
  },
  {
   "cell_type": "code",
   "execution_count": 14,
   "id": "854899b3-ef3d-4302-9500-5987ebd75c93",
   "metadata": {},
   "outputs": [
    {
     "name": "stdout",
     "output_type": "stream",
     "text": [
      "category\n",
      "Account Issue       5\n",
      "Billing Issue       5\n",
      " Account Issue      5\n",
      "Technical Issue     5\n",
      "Network Issue       4\n",
      " Technical Issue    1\n",
      "Name: count, dtype: int64\n"
     ]
    }
   ],
   "source": [
    "df = pd.read_csv(\"D:/AI_Ticket_Classifier/AI_Ticket_Classifier/data/tickets.csv\")\n",
    "print(df['category'].value_counts())"
   ]
  },
  {
   "cell_type": "code",
   "execution_count": 15,
   "id": "2881b292-b7c7-48cb-aa1c-984240ff346f",
   "metadata": {},
   "outputs": [
    {
     "name": "stdout",
     "output_type": "stream",
     "text": [
      "✅ Accuracy: 0.8\n",
      "\n",
      "Classification Report:\n",
      "                  precision    recall  f1-score   support\n",
      "\n",
      "  Account Issue       0.50      1.00      0.67         1\n",
      "  Account Issue       1.00      0.50      0.67         2\n",
      "  Billing Issue       1.00      1.00      1.00         1\n",
      "Technical Issue       1.00      1.00      1.00         1\n",
      "\n",
      "       accuracy                           0.80         5\n",
      "      macro avg       0.88      0.88      0.83         5\n",
      "   weighted avg       0.90      0.80      0.80         5\n",
      "\n",
      "\n",
      "✅ Model and vectorizer saved successfully!\n"
     ]
    }
   ],
   "source": [
    "import pandas as pd\n",
    "from sklearn.model_selection import train_test_split\n",
    "from sklearn.feature_extraction.text import TfidfVectorizer\n",
    "from sklearn.linear_model import LogisticRegression\n",
    "from sklearn.metrics import classification_report, accuracy_score\n",
    "import pickle\n",
    "import os\n",
    "\n",
    "# 1️⃣ Load dataset\n",
    "df = pd.read_csv(\"D:/AI_Ticket_Classifier/AI_Ticket_Classifier/data/tickets.csv\")\n",
    "\n",
    "# Optional cleaning\n",
    "df.dropna(inplace=True)\n",
    "\n",
    "# 2️⃣ Split data\n",
    "X = df[\"text\"]        # change column name if needed (e.g., 'text' or 'complaint')\n",
    "y = df[\"category\"]\n",
    "\n",
    "X_train, X_test, y_train, y_test = train_test_split(X, y, test_size=0.2, random_state=42)\n",
    "\n",
    "# 3️⃣ Vectorize text\n",
    "vectorizer = TfidfVectorizer(stop_words='english')\n",
    "X_train_tfidf = vectorizer.fit_transform(X_train)\n",
    "X_test_tfidf = vectorizer.transform(X_test)\n",
    "\n",
    "# 4️⃣ Train balanced model\n",
    "model = LogisticRegression(class_weight='balanced', max_iter=1000)\n",
    "model.fit(X_train_tfidf, y_train)\n",
    "\n",
    "# 5️⃣ Evaluate model\n",
    "y_pred = model.predict(X_test_tfidf)\n",
    "print(\"✅ Accuracy:\", accuracy_score(y_test, y_pred))\n",
    "print(\"\\nClassification Report:\\n\", classification_report(y_test, y_pred))\n",
    "\n",
    "# 6️⃣ Save model & vectorizer\n",
    "os.makedirs(\"model\", exist_ok=True)\n",
    "with open(\"D:/AI_Ticket_Classifier/AI_Ticket_Classifier/model/ticket_classifier.pkl\", \"wb\") as f:\n",
    "    pickle.dump(model, f)\n",
    "\n",
    "with open(\"D:/AI_Ticket_Classifier/AI_Ticket_Classifier/model/tfidf_vectorizer.pkl\", \"wb\") as f:\n",
    "    pickle.dump(vectorizer, f)\n",
    "\n",
    "print(\"\\n✅ Model and vectorizer saved successfully!\")\n"
   ]
  },
  {
   "cell_type": "code",
   "execution_count": 16,
   "id": "9a565958-f96e-4470-acaf-d7d99fd946bf",
   "metadata": {},
   "outputs": [
    {
     "name": "stdout",
     "output_type": "stream",
     "text": [
      "                                    text         category\n",
      "0            I can't login to my account    Account Issue\n",
      "1    My internet connection is very slow    Network Issue\n",
      "2       Please help me reset my password    Account Issue\n",
      "3      I was overcharged on my last bill    Billing Issue\n",
      "4  The app keeps crashing when I open it  Technical Issue\n",
      "                                text          category\n",
      "20        Password reset not working     Account Issue\n",
      "21       Forgot my login credentials     Account Issue\n",
      "22             My account got locked     Account Issue\n",
      "23  I can’t sign in even after reset     Account Issue\n",
      "24   computer can't working properly   Technical Issue\n",
      "\n",
      "Category distribution:\n",
      " category\n",
      "Account Issue       5\n",
      "Billing Issue       5\n",
      " Account Issue      5\n",
      "Technical Issue     5\n",
      "Network Issue       4\n",
      " Technical Issue    1\n",
      "Name: count, dtype: int64\n"
     ]
    }
   ],
   "source": [
    "df = pd.read_csv(\"D:/AI_Ticket_Classifier/AI_Ticket_Classifier/data/tickets.csv\")\n",
    "print(df.head())\n",
    "print(df.tail())\n",
    "print(\"\\nCategory distribution:\\n\", df['category'].value_counts())"
   ]
  },
  {
   "cell_type": "code",
   "execution_count": 17,
   "id": "93158217-8536-4dbf-a138-41f7b2840d61",
   "metadata": {},
   "outputs": [],
   "source": [
    "X = df[\"text\"]\n",
    "y = df[\"category\"]"
   ]
  },
  {
   "cell_type": "code",
   "execution_count": 18,
   "id": "64619fa0-77bc-4407-ada4-0bd45aac6334",
   "metadata": {},
   "outputs": [
    {
     "name": "stdout",
     "output_type": "stream",
     "text": [
      "Model trained successfully!\n",
      "✅ Model and vectorizer saved!\n"
     ]
    }
   ],
   "source": [
    "from sklearn.model_selection import train_test_split\n",
    "from sklearn.feature_extraction.text import TfidfVectorizer\n",
    "from sklearn.linear_model import LogisticRegression\n",
    "import pickle, os\n",
    "\n",
    "df = pd.read_csv(\"D:/AI_Ticket_Classifier/AI_Ticket_Classifier/data/tickets.csv\")\n",
    "\n",
    "X = df[\"text\"]\n",
    "y = df[\"category\"]\n",
    "\n",
    "X_train, X_test, y_train, y_test = train_test_split(X, y, test_size=0.2, random_state=42)\n",
    "\n",
    "vectorizer = TfidfVectorizer(stop_words='english')\n",
    "X_train_tfidf = vectorizer.fit_transform(X_train)\n",
    "X_test_tfidf = vectorizer.transform(X_test)\n",
    "\n",
    "model = LogisticRegression(class_weight='balanced', max_iter=1000)\n",
    "model.fit(X_train_tfidf, y_train)\n",
    "\n",
    "print(\"Model trained successfully!\")\n",
    "\n",
    "os.makedirs(\"model\", exist_ok=True)\n",
    "with open(\"D:/AI_Ticket_Classifier/AI_Ticket_Classifier/model/ticket_classifier.pkl\", \"wb\") as f:\n",
    "    pickle.dump(model, f)\n",
    "with open(\"D:/AI_Ticket_Classifier/AI_Ticket_Classifier/model/tfidf_vectorizer.pkl\", \"wb\") as f:\n",
    "    pickle.dump(vectorizer, f)\n",
    "\n",
    "print(\"✅ Model and vectorizer saved!\")\n"
   ]
  },
  {
   "cell_type": "code",
   "execution_count": 19,
   "id": "ef29d94d-3b10-49b6-822b-b34bc2580078",
   "metadata": {},
   "outputs": [],
   "source": [
    "import pandas as pd\n",
    "from sklearn.model_selection import train_test_split\n",
    "from sklearn.feature_extraction.text import TfidfVectorizer\n",
    "from sklearn.linear_model import LogisticRegression\n",
    "from sklearn.metrics import classification_report, accuracy_score\n",
    "import pickle, os\n",
    "\n",
    "# Load dataset\n",
    "df = pd.read_csv(\"D:/AI_Ticket_Classifier/AI_Ticket_Classifier/data/tickets.csv\")\n",
    "df.dropna(inplace=True)\n",
    "\n",
    "# ✅ Correct column names\n",
    "X = df[\"text\"]\n",
    "y = df[\"category\"]\n"
   ]
  },
  {
   "cell_type": "code",
   "execution_count": 20,
   "id": "a6798be8-23e4-4d26-a289-71918932203a",
   "metadata": {},
   "outputs": [],
   "source": [
    "df = df.sample(frac=1, random_state=42).reset_index(drop=True)"
   ]
  },
  {
   "cell_type": "code",
   "execution_count": 21,
   "id": "40d890c0-d286-4be6-88ac-c6c2c3da2038",
   "metadata": {},
   "outputs": [
    {
     "name": "stdout",
     "output_type": "stream",
     "text": [
      "✅ Accuracy: 0.8\n",
      "\n",
      "Classification Report:\n",
      "                  precision    recall  f1-score   support\n",
      "\n",
      "  Account Issue       0.50      1.00      0.67         1\n",
      "  Account Issue       1.00      0.50      0.67         2\n",
      "  Billing Issue       1.00      1.00      1.00         1\n",
      "Technical Issue       1.00      1.00      1.00         1\n",
      "\n",
      "       accuracy                           0.80         5\n",
      "      macro avg       0.88      0.88      0.83         5\n",
      "   weighted avg       0.90      0.80      0.80         5\n",
      "\n"
     ]
    }
   ],
   "source": [
    "X_train, X_test, y_train, y_test = train_test_split(X, y, test_size=0.2, random_state=42)\n",
    "\n",
    "vectorizer = TfidfVectorizer(stop_words='english')\n",
    "X_train_tfidf = vectorizer.fit_transform(X_train)\n",
    "X_test_tfidf = vectorizer.transform(X_test)\n",
    "\n",
    "model = LogisticRegression(class_weight='balanced', max_iter=1000)\n",
    "model.fit(X_train_tfidf, y_train)\n",
    "\n",
    "y_pred = model.predict(X_test_tfidf)\n",
    "print(\"✅ Accuracy:\", accuracy_score(y_test, y_pred))\n",
    "print(\"\\nClassification Report:\\n\", classification_report(y_test, y_pred))\n"
   ]
  },
  {
   "cell_type": "code",
   "execution_count": 22,
   "id": "7f6b9b03-622f-443e-8d82-e116bf1709af",
   "metadata": {},
   "outputs": [
    {
     "name": "stdout",
     "output_type": "stream",
     "text": [
      "\n",
      "✅ Model updated successfully!\n"
     ]
    }
   ],
   "source": [
    "os.makedirs(\"model\", exist_ok=True)\n",
    "with open(\"D:/AI_Ticket_Classifier/AI_Ticket_Classifier/model/ticket_classifier.pkl\", \"wb\") as f:\n",
    "    pickle.dump(model, f)\n",
    "\n",
    "with open(\"D:/AI_Ticket_Classifier/AI_Ticket_Classifier/model/tfidf_vectorizer.pkl\", \"wb\") as f:\n",
    "    pickle.dump(vectorizer, f)\n",
    "\n",
    "print(\"\\n✅ Model updated successfully!\")\n"
   ]
  },
  {
   "cell_type": "code",
   "execution_count": 25,
   "id": "19ac012a-4c85-4ea5-8b60-5da73e942c46",
   "metadata": {},
   "outputs": [
    {
     "name": "stdout",
     "output_type": "stream",
     "text": [
      "Classification Report:\n",
      "                 precision    recall  f1-score   support\n",
      "\n",
      "  Account Issue       0.50      1.00      0.67         1\n",
      "  Account Issue       1.00      0.50      0.67         2\n",
      "  Billing Issue       1.00      1.00      1.00         1\n",
      "Technical Issue       1.00      1.00      1.00         1\n",
      "\n",
      "       accuracy                           0.80         5\n",
      "      macro avg       0.88      0.88      0.83         5\n",
      "   weighted avg       0.90      0.80      0.80         5\n",
      "\n"
     ]
    },
    {
     "data": {
      "image/png": "[encoded data removed]",
      "text/plain": [
       "<Figure size 600x600 with 2 Axes>"
      ]
     },
     "metadata": {},
     "output_type": "display_data"
    }
   ],
   "source": [
    "from sklearn.metrics import classification_report, confusion_matrix, ConfusionMatrixDisplay\n",
    "import matplotlib.pyplot as plt\n",
    "import numpy as np\n",
    "\n",
    "# Predict on vectorized test data\n",
    "X_test_tfidf = vectorizer.transform(X_test)\n",
    "y_pred = model.predict(X_test_tfidf)\n",
    "\n",
    "# Generate metrics\n",
    "print(\"Classification Report:\")\n",
    "print(classification_report(y_test, y_pred))\n",
    "\n",
    "# Confusion matrix\n",
    "labels = np.unique(np.concatenate((y_test, y_pred)))  # ensures all present labels included\n",
    "conf_matrix = confusion_matrix(y_test, y_pred, labels=labels)\n",
    "\n",
    "# Display confusion matrix\n",
    "fig, ax = plt.subplots(figsize=(6, 6))\n",
    "disp = ConfusionMatrixDisplay(confusion_matrix=conf_matrix, display_labels=labels)\n",
    "disp.plot(ax=ax, cmap=\"Blues\")\n",
    "plt.title(\"Confusion Matrix\")\n",
    "plt.show()"
   ]
  },
  {
   "cell_type": "code",
   "execution_count": null,
   "id": "2fe016a8-c2e8-4f15-8b5e-bf3a27e23adf",
   "metadata": {},
   "outputs": [],
   "source": []
  }
 ],
 "metadata": {
  "kernelspec": {
   "display_name": "Python 3 (ipykernel)",
   "language": "python",
   "name": "python3"
  },
  "language_info": {
   "codemirror_mode": {
    "name": "ipython",
    "version": 3
   },
   "file_extension": ".py",
   "mimetype": "text/x-python",
   "name": "python",
   "nbconvert_exporter": "python",
   "pygments_lexer": "ipython3",
   "version": "3.13.9"
  }
 },
 "nbformat": 4,
 "nbformat_minor": 5
}
