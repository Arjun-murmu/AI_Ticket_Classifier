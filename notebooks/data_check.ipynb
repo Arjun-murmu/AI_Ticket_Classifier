{
 "cells": [
  {
   "cell_type": "code",
   "execution_count": 4,
   "id": "586f23a1-a8fd-4263-b2e4-dc2f9145dc39",
   "metadata": {},
   "outputs": [
    {
     "name": "stdout",
     "output_type": "stream",
     "text": [
      "Libraries imported successfully!\n"
     ]
    }
   ],
   "source": [
    "import pandas as pd\n",
    "print(\"Libraries imported successfully!\")"
   ]
  },
  {
   "cell_type": "code",
   "execution_count": 5,
   "id": "32fe8af1-c7d3-42eb-a8e4-f2f9b85b8df8",
   "metadata": {},
   "outputs": [
    {
     "name": "stderr",
     "output_type": "stream",
     "text": [
      "[nltk_data] Downloading package punkt to\n",
      "[nltk_data]     C:\\Users\\murmu\\AppData\\Roaming\\nltk_data...\n",
      "[nltk_data]   Unzipping tokenizers\\punkt.zip.\n",
      "[nltk_data] Downloading package stopwords to\n",
      "[nltk_data]     C:\\Users\\murmu\\AppData\\Roaming\\nltk_data...\n",
      "[nltk_data]   Unzipping corpora\\stopwords.zip.\n"
     ]
    },
    {
     "data": {
      "text/plain": [
       "True"
      ]
     },
     "execution_count": 5,
     "metadata": {},
     "output_type": "execute_result"
    }
   ],
   "source": [
    "import nltk\n",
    "nltk.download('punkt')\n",
    "nltk.download('stopwords')"
   ]
  },
  {
   "cell_type": "code",
   "execution_count": 14,
   "id": "1c10ae07-72f5-44b7-9f58-29f94c0dbd16",
   "metadata": {},
   "outputs": [
    {
     "name": "stdout",
     "output_type": "stream",
     "text": [
      "                                    text         category\n",
      "0            I can't login to my account    Account Issue\n",
      "1    My internet connection is very slow    Network Issue\n",
      "2       Please help me reset my password    Account Issue\n",
      "3      I was overcharged on my last bill    Billing Issue\n",
      "4  The app keeps crashing when I open it  Technical Issue\n"
     ]
    }
   ],
   "source": [
    "# Load the CSV\n",
    "df = pd.read_csv(\"D:/AI_Ticket_Classifier/AI_Ticket_Classifier/data/tickets.csv\")\n",
    "print(df.head())"
   ]
  },
  {
   "cell_type": "code",
   "execution_count": 15,
   "id": "3a4536df-2347-4021-bbcb-8df6f95f5ff3",
   "metadata": {},
   "outputs": [],
   "source": [
    "import re\n",
    "from nltk.corpus import stopwords\n",
    "\n",
    "stop_words = set(stopwords.words('english'))"
   ]
  },
  {
   "cell_type": "code",
   "execution_count": 16,
   "id": "881aed45-4b5f-4d59-ac3b-5e5a6bc803a9",
   "metadata": {},
   "outputs": [
    {
     "name": "stdout",
     "output_type": "stream",
     "text": [
      "{'same', 'can', \"i'll\", 're', 'didn', \"they'll\", 'ain', 'hadn', 'which', 'such', \"doesn't\", \"he'll\", 'some', 'himself', \"it'll\", 'yourself', 'an', 'aren', 'y', \"they'd\", 'her', 'them', \"isn't\", 'each', 'isn', \"shan't\", 'was', \"we've\", 'doing', 'off', 'she', \"we'd\", 'having', 'few', 'it', 'for', 'him', \"should've\", 'not', \"didn't\", \"wasn't\", 'before', 'with', 'how', \"she'd\", 'to', 'me', 'only', 'again', \"couldn't\", \"haven't\", 'up', \"you'd\", 'are', 't', 'did', \"it'd\", \"mustn't\", \"i'm\", 'very', \"you'll\", 'as', 'above', 's', 'about', 'there', 'this', 'over', 'between', 'doesn', 'after', 'should', 'nor', 'then', 'from', 'shan', 've', \"aren't\", 'our', 'why', 'you', 'd', 'while', 'its', 'my', 'itself', 'he', 'now', 'but', \"she'll\", 'have', \"won't\", 'so', \"you're\", 'haven', 'under', 'further', 'i', 'all', 'has', 'any', \"weren't\", 'ourselves', \"needn't\", 'am', 'too', 'hers', 'ours', \"hasn't\", 'what', 'during', 'of', 'does', 'needn', 'own', 'yourselves', 'shouldn', 'whom', 'm', 'these', \"we'll\", 'or', 'when', 'theirs', 'being', 'that', 'weren', 'wouldn', \"shouldn't\", 'is', \"he'd\", 'their', 'herself', 'themselves', 'through', 'will', 'couldn', \"hadn't\", 'against', \"i'd\", 'most', 'hasn', 'in', 'out', 'we', 'who', \"they're\", 'at', 'because', \"you've\", 'just', 'where', 'those', 'be', 'they', \"it's\", 'o', 'wasn', 'yours', 'no', 'won', 'both', 'mightn', 'into', \"they've\", 'other', \"that'll\", 'and', \"mightn't\", 'by', 'the', 'down', \"don't\", 'on', 'your', \"she's\", 'a', 'do', 'here', 'mustn', \"wouldn't\", 'myself', 'had', 'until', \"we're\", 'if', \"i've\", 'once', 'were', \"he's\", 'll', 'ma', 'his', 'more', 'don', 'than', 'been', 'below'}\n"
     ]
    }
   ],
   "source": [
    "print(stop_words)"
   ]
  },
  {
   "cell_type": "code",
   "execution_count": 17,
   "id": "7ed4ac56-319a-4998-bf1a-b478175ba3ed",
   "metadata": {},
   "outputs": [],
   "source": [
    "def clean_text(text):\n",
    "    # Remove special characters, numbers, and punctuation\n",
    "    text = re.sub(r'[^a-zA-Z\\s]', '', text)\n",
    "    # Convert to lowercase\n",
    "    text = text.lower()\n",
    "    # Tokenize and remove stopwords\n",
    "    words = [word for word in text.split() if word not in stop_words]\n",
    "    return ' '.join(words)"
   ]
  },
  {
   "cell_type": "code",
   "execution_count": 18,
   "id": "785022d3-9bbf-49f3-88ec-e3342f4d1d39",
   "metadata": {},
   "outputs": [
    {
     "name": "stdout",
     "output_type": "stream",
     "text": [
      "                                            text  \\\n",
      "0                    I can't login to my account   \n",
      "1            My internet connection is very slow   \n",
      "2               Please help me reset my password   \n",
      "3              I was overcharged on my last bill   \n",
      "4          The app keeps crashing when I open it   \n",
      "5  My payment failed but the amount was deducted   \n",
      "6        Unable to send messages through the app   \n",
      "\n",
      "                       clean_text  \n",
      "0              cant login account  \n",
      "1        internet connection slow  \n",
      "2      please help reset password  \n",
      "3           overcharged last bill  \n",
      "4         app keeps crashing open  \n",
      "5  payment failed amount deducted  \n",
      "6        unable send messages app  \n"
     ]
    }
   ],
   "source": [
    "df['clean_text'] = df['text'].apply(clean_text)\n",
    "print(df[['text', 'clean_text']].head(10))"
   ]
  },
  {
   "cell_type": "code",
   "execution_count": 19,
   "id": "ae9cb339-d39e-42eb-9cc0-6016267c2027",
   "metadata": {},
   "outputs": [
    {
     "name": "stdout",
     "output_type": "stream",
     "text": [
      "Missing values: text          0\n",
      "category      0\n",
      "clean_text    0\n",
      "dtype: int64\n",
      "Duplicate rows: 0\n"
     ]
    }
   ],
   "source": [
    "print(\"Missing values:\", df.isnull().sum())\n",
    "print(\"Duplicate rows:\", df.duplicated().sum())"
   ]
  },
  {
   "cell_type": "code",
   "execution_count": 21,
   "id": "68274b19-905d-4d42-a973-525981b6e116",
   "metadata": {},
   "outputs": [
    {
     "name": "stdout",
     "output_type": "stream",
     "text": [
      "✅ Cleaned dataset saved successfully!\n"
     ]
    }
   ],
   "source": [
    "df.to_csv(\"D:/AI_Ticket_Classifier/AI_Ticket_Classifier/data/cleaned_tickets.csv\", index=False)\n",
    "print(\"✅ Cleaned dataset saved successfully!\")"
   ]
  },
  {
   "cell_type": "code",
   "execution_count": null,
   "id": "854899b3-ef3d-4302-9500-5987ebd75c93",
   "metadata": {},
   "outputs": [],
   "source": []
  }
 ],
 "metadata": {
  "kernelspec": {
   "display_name": "Python 3 (ipykernel)",
   "language": "python",
   "name": "python3"
  },
  "language_info": {
   "codemirror_mode": {
    "name": "ipython",
    "version": 3
   },
   "file_extension": ".py",
   "mimetype": "text/x-python",
   "name": "python",
   "nbconvert_exporter": "python",
   "pygments_lexer": "ipython3",
   "version": "3.13.9"
  }
 },
 "nbformat": 4,
 "nbformat_minor": 5
}
